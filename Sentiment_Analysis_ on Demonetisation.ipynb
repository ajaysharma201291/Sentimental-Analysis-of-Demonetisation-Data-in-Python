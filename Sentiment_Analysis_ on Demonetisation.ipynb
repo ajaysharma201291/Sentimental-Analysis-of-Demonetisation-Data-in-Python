{
 "cells": [
  {
   "cell_type": "code",
   "execution_count": 160,
   "metadata": {
    "collapsed": true
   },
   "outputs": [],
   "source": [
    "###################################################################################\n",
    "# Purpose: Sentiment Analysis                                                     #\n",
    "# input:   tweets taken from twitter account of POTUS                             #\n",
    "# output:  Polarity and subjectivity by each tweet                                #\n",
    "# Author:  Bhat Dittakavi of Variance.AI (a downloaded code that I have modified) #\n",
    "###################################################################################\n",
    "\n",
    "# Dependencies\n",
    "import tweepy                                # twitter api\n",
    "import pandas as pd                          # data analysis (dataframes, read file)\n",
    "import numpy as np                           # arrays and linear algebra\n",
    "from IPython.display import display          # print output in tabular format\n",
    "import matplotlib.pyplot as plt              # for 2D plotting\n",
    "from bokeh.plotting import figure            # library to create a new figure for plotting\n",
    "from bokeh.io import show, output_notebook   # Configure the output state to output in notebook cells\n",
    "#%matplotlib inline                          # for plotting inline (next to the code)\n"
   ]
  },
  {
   "cell_type": "code",
   "execution_count": 124,
   "metadata": {
    "collapsed": true
   },
   "outputs": [],
   "source": [
    "## Twitter Credentials\n",
    "\n",
    "# 1) Go to apps.twitter.com\n",
    "# 2) Create a twitter app\n",
    "# 3) Get the following 4 credentials from the app\n",
    "\n",
    "consumerkey       = '7Tqn943TW2Cikh5aB2lwxsvSl'  #You have to get your own keys.\n",
    "consumersecret    = 'I8ztguBy5QqwwnrZakOnvWp0LawCi9OJNvhyxAsRuQBSFd6rd6'\n",
    "accesstoken       ='126280810-W4Z7lhvN5kf0GB8FxpsJSumut8cKtAGHeRa8CYqS'\n",
    "accesstokensecret = 'rRL0IDlp1lkYk3ZY3WmIGTlaHLZfUFIFcmgOLH6BtuyAF'"
   ]
  },
  {
   "cell_type": "code",
   "execution_count": 161,
   "metadata": {
    "collapsed": true
   },
   "outputs": [],
   "source": [
    "## Function to establish connection with twitter\n",
    "\n",
    "def info_extraction(): \n",
    "    oauth = tweepy.OAuthHandler(consumerkey, consumersecret)  # passing consumerkey and consumersecret as paramaters to OAuthHandler attribute\n",
    "    oauth.set_access_token(accesstoken, accesstokensecret)    # passing accesstoken and accesstokensecret as parameters to set_access_token\n",
    "    connection = tweepy.API(oauth)                            # establishing connection using all the credentials\n",
    "    return connection                                         # returning the connection back to the function\n",
    "\n"
   ]
  },
  {
   "cell_type": "code",
   "execution_count": 162,
   "metadata": {},
   "outputs": [
    {
     "name": "stdout",
     "output_type": "stream",
     "text": [
      "Number of tweets that are extracted: 15\n",
      "\n",
      "10 recent tweets:\n",
      "\n",
      "RT @DaharwalK: @SushmaSwaraj Mdm in last one week we got to know how AmitShah has worked tirelessly to make BJP richest party of Country by…\n",
      "RT @circuit_hai_kya: \"Demonetization was a real Emergency on account of every poor Indian proclaimed by Chowkidar in which all 125 cr India…\n",
      "RT @circuit_hai_kya: \"Demonetization was a real Emergency on account of every poor Indian proclaimed by Chowkidar in which all 125 cr India…\n",
      "RT @TanvirSalim1: Talking to people at ground zero, I notice people's disappointment with PM Modi. The Mantra of 'achche din' is taking its…\n",
      "Talking to people at ground zero, I notice people's disappointment with PM Modi. The Mantra of 'achche din' is taki… https://t.co/MPdduZVwAa\n",
      "RT @avinashpandeinc: Probably the reason why Demonetization is considered a success and its anniversary is celebrated by the BJP while for…\n",
      "RT @Dipankar_cpiml: Is #TreeCutting the latest fad of the Modi government? Felling thousands of trees in polluted Delhi, lakhs of trees in…\n",
      "RT @circuit_hai_kya: \"Demonetization was a real Emergency on account of every poor Indian proclaimed by Chowkidar in which all 125 cr India…\n",
      "RT @dhruv_rathee: India's Biggest Scam - Demonetisation keeps growing bigger? \n",
      "\n",
      "A bank, whose director is Amit Shah received deposits of 70…\n",
      "RT @dhruv_rathee: During Demonetization, the man who was the deputy RBI governor has left his job.\n",
      "\n",
      "He has now joined PayTM company as an a…\n"
     ]
    }
   ],
   "source": [
    "## Retrieving Tweets\n",
    "\n",
    "# Tweets can be retrieved by passing required parameters\n",
    "\n",
    "\n",
    "connection = info_extraction()                                                 # Calling the funtion from where we have got the connection\n",
    "\n",
    "tweets = connection.search(\"Demonetization\",lang=\"en\")\n",
    "#dir(tweets[1])   #Lists attributes of the first tweet object   \n",
    "\n",
    "print(\"Number of tweets that are extracted: {}\\n\".format(len(tweets))) \n",
    "print(\"10 recent tweets:\\n\")\n",
    "for x in tweets[:10]:\n",
    "    print(x.text)                                                              # .text is for getting plain text "
   ]
  },
  {
   "cell_type": "markdown",
   "metadata": {},
   "source": [
    "# Twitter Data on demonetisation in the last week from code execution."
   ]
  },
  {
   "cell_type": "code",
   "execution_count": 163,
   "metadata": {},
   "outputs": [
    {
     "name": "stdout",
     "output_type": "stream",
     "text": [
      "                                              Tweets\n",
      "0  RT @DaharwalK: @SushmaSwaraj Mdm in last one w...\n",
      "1  RT @circuit_hai_kya: \"Demonetization was a rea...\n",
      "2  RT @circuit_hai_kya: \"Demonetization was a rea...\n",
      "3  RT @TanvirSalim1: Talking to people at ground ...\n",
      "4  Talking to people at ground zero, I notice peo...\n",
      "5  RT @avinashpandeinc: Probably the reason why D...\n",
      "6  RT @Dipankar_cpiml: Is #TreeCutting the latest...\n",
      "7  RT @circuit_hai_kya: \"Demonetization was a rea...\n",
      "8  RT @dhruv_rathee: India's Biggest Scam - Demon...\n",
      "9  RT @dhruv_rathee: During Demonetization, the m...\n"
     ]
    }
   ],
   "source": [
    "## Creating DateFrame for Tweets\n",
    "\n",
    "data = pd.DataFrame(data=[tweet.text for tweet in tweets], columns=['Tweets']) \n",
    "print(data.head(10))\n"
   ]
  },
  {
   "cell_type": "code",
   "execution_count": 164,
   "metadata": {
    "collapsed": true
   },
   "outputs": [],
   "source": [
    "## Adding Columns to DataFrame\n",
    "\n",
    "data['len']  = np.array([len(tweet.text) for tweet in tweets])      \n",
    "data['Date'] = np.array([tweet.created_at for tweet in tweets])     \n",
    "data['Likes']= np.array([tweet.favorite_count for tweet in tweets])\n",
    "data['RTs']= np.array([tweet.retweet_count for tweet in tweets])\n",
    "data['User']=np.array([tweet.user for tweet in tweets])\n",
    "data['Id']=np.array([tweet.id for tweet in tweets])\n",
    "\n"
   ]
  },
  {
   "cell_type": "code",
   "execution_count": 165,
   "metadata": {},
   "outputs": [
    {
     "data": {
      "text/html": [
       "<div>\n",
       "<style>\n",
       "    .dataframe thead tr:only-child th {\n",
       "        text-align: right;\n",
       "    }\n",
       "\n",
       "    .dataframe thead th {\n",
       "        text-align: left;\n",
       "    }\n",
       "\n",
       "    .dataframe tbody tr th {\n",
       "        vertical-align: top;\n",
       "    }\n",
       "</style>\n",
       "<table border=\"1\" class=\"dataframe\">\n",
       "  <thead>\n",
       "    <tr style=\"text-align: right;\">\n",
       "      <th></th>\n",
       "      <th>Tweets</th>\n",
       "      <th>len</th>\n",
       "      <th>Date</th>\n",
       "      <th>Likes</th>\n",
       "      <th>RTs</th>\n",
       "      <th>User</th>\n",
       "      <th>Id</th>\n",
       "    </tr>\n",
       "  </thead>\n",
       "  <tbody>\n",
       "    <tr>\n",
       "      <th>1</th>\n",
       "      <td>RT @circuit_hai_kya: \"Demonetization was a rea...</td>\n",
       "      <td>140</td>\n",
       "      <td>2018-06-24 14:36:51</td>\n",
       "      <td>0</td>\n",
       "      <td>14</td>\n",
       "      <td>User(_api=&lt;tweepy.api.API object at 0x119d8f9b...</td>\n",
       "      <td>1010894528939679744</td>\n",
       "    </tr>\n",
       "    <tr>\n",
       "      <th>2</th>\n",
       "      <td>RT @circuit_hai_kya: \"Demonetization was a rea...</td>\n",
       "      <td>140</td>\n",
       "      <td>2018-06-24 14:36:39</td>\n",
       "      <td>0</td>\n",
       "      <td>14</td>\n",
       "      <td>User(_api=&lt;tweepy.api.API object at 0x119d8f9b...</td>\n",
       "      <td>1010894475684728832</td>\n",
       "    </tr>\n",
       "    <tr>\n",
       "      <th>3</th>\n",
       "      <td>RT @TanvirSalim1: Talking to people at ground ...</td>\n",
       "      <td>140</td>\n",
       "      <td>2018-06-24 14:35:34</td>\n",
       "      <td>0</td>\n",
       "      <td>1</td>\n",
       "      <td>User(_api=&lt;tweepy.api.API object at 0x119d8f9b...</td>\n",
       "      <td>1010894203856084992</td>\n",
       "    </tr>\n",
       "    <tr>\n",
       "      <th>4</th>\n",
       "      <td>Talking to people at ground zero, I notice peo...</td>\n",
       "      <td>140</td>\n",
       "      <td>2018-06-24 14:35:16</td>\n",
       "      <td>1</td>\n",
       "      <td>1</td>\n",
       "      <td>User(_api=&lt;tweepy.api.API object at 0x119d8f9b...</td>\n",
       "      <td>1010894130845704192</td>\n",
       "    </tr>\n",
       "  </tbody>\n",
       "</table>\n",
       "</div>"
      ],
      "text/plain": [
       "                                              Tweets  len                Date  \\\n",
       "1  RT @circuit_hai_kya: \"Demonetization was a rea...  140 2018-06-24 14:36:51   \n",
       "2  RT @circuit_hai_kya: \"Demonetization was a rea...  140 2018-06-24 14:36:39   \n",
       "3  RT @TanvirSalim1: Talking to people at ground ...  140 2018-06-24 14:35:34   \n",
       "4  Talking to people at ground zero, I notice peo...  140 2018-06-24 14:35:16   \n",
       "\n",
       "   Likes  RTs                                               User  \\\n",
       "1      0   14  User(_api=<tweepy.api.API object at 0x119d8f9b...   \n",
       "2      0   14  User(_api=<tweepy.api.API object at 0x119d8f9b...   \n",
       "3      0    1  User(_api=<tweepy.api.API object at 0x119d8f9b...   \n",
       "4      1    1  User(_api=<tweepy.api.API object at 0x119d8f9b...   \n",
       "\n",
       "                    Id  \n",
       "1  1010894528939679744  \n",
       "2  1010894475684728832  \n",
       "3  1010894203856084992  \n",
       "4  1010894130845704192  "
      ]
     },
     "metadata": {},
     "output_type": "display_data"
    }
   ],
   "source": [
    "## Display DataFrame\n",
    "\n",
    "display(data[1:5]) "
   ]
  },
  {
   "cell_type": "code",
   "execution_count": 166,
   "metadata": {
    "collapsed": true
   },
   "outputs": [],
   "source": [
    "## Clean and Sentiment Analysis the Tweet\n",
    "\n",
    "from textblob import TextBlob                    # library for processing textual data          \n",
    "import re\n",
    "\n",
    "def clean_tweet(tweet):\n",
    "    return ' '.join(re.sub(\"(@[A-Za-z0-9]+)|([^0-9A-Za-z \\t])|(\\w+:\\/\\/\\S+)\", \" \", tweet).split())\n",
    "    #We're returning the tweet which is cleaned(after replacin' the above pattern to null which means deleting)\n",
    "\n",
    "\n",
    "def get_polarity(tweet):                         # here we're getting the polarity of each tweet after analysing it\n",
    "    analysis = TextBlob(clean_tweet(tweet))\n",
    "    if analysis.sentiment.polarity > 0:          #polarity tells whether the tweet is postive or negative or neutral\n",
    "        return 1\n",
    "    elif analysis.sentiment.polarity == 0:\n",
    "        return 0\n",
    "    else:\n",
    "        return -1"
   ]
  },
  {
   "cell_type": "code",
   "execution_count": 167,
   "metadata": {
    "collapsed": true
   },
   "outputs": [],
   "source": [
    "## Adding Sentiment Column\n",
    "\n",
    "data['Sentiment'] = np.array([ get_polarity(tweet) for tweet in data['Tweets'] ])"
   ]
  },
  {
   "cell_type": "code",
   "execution_count": 168,
   "metadata": {},
   "outputs": [
    {
     "name": "stdout",
     "output_type": "stream",
     "text": [
      "                                              Tweets  len                Date  \\\n",
      "0  RT @DaharwalK: @SushmaSwaraj Mdm in last one w...  140 2018-06-24 14:37:03   \n",
      "1  RT @circuit_hai_kya: \"Demonetization was a rea...  140 2018-06-24 14:36:51   \n",
      "2  RT @circuit_hai_kya: \"Demonetization was a rea...  140 2018-06-24 14:36:39   \n",
      "3  RT @TanvirSalim1: Talking to people at ground ...  140 2018-06-24 14:35:34   \n",
      "4  Talking to people at ground zero, I notice peo...  140 2018-06-24 14:35:16   \n",
      "5  RT @avinashpandeinc: Probably the reason why D...  139 2018-06-24 14:33:45   \n",
      "6  RT @Dipankar_cpiml: Is #TreeCutting the latest...  139 2018-06-24 14:33:28   \n",
      "7  RT @circuit_hai_kya: \"Demonetization was a rea...  140 2018-06-24 14:33:00   \n",
      "8  RT @dhruv_rathee: India's Biggest Scam - Demon...  140 2018-06-24 14:32:51   \n",
      "9  RT @dhruv_rathee: During Demonetization, the m...  140 2018-06-24 14:32:49   \n",
      "\n",
      "   Likes   RTs                                               User  \\\n",
      "0      0     1  User(_api=<tweepy.api.API object at 0x119d8f9b...   \n",
      "1      0    14  User(_api=<tweepy.api.API object at 0x119d8f9b...   \n",
      "2      0    14  User(_api=<tweepy.api.API object at 0x119d8f9b...   \n",
      "3      0     1  User(_api=<tweepy.api.API object at 0x119d8f9b...   \n",
      "4      1     1  User(_api=<tweepy.api.API object at 0x119d8f9b...   \n",
      "5      0   107  User(_api=<tweepy.api.API object at 0x119d8f9b...   \n",
      "6      0   124  User(_api=<tweepy.api.API object at 0x119d8f9b...   \n",
      "7      0    14  User(_api=<tweepy.api.API object at 0x119d8f9b...   \n",
      "8      0  3100  User(_api=<tweepy.api.API object at 0x119d8f9b...   \n",
      "9      0  3241  User(_api=<tweepy.api.API object at 0x119d8f9b...   \n",
      "\n",
      "                    Id  Sentiment  \n",
      "0  1010894577547399169          0  \n",
      "1  1010894528939679744         -1  \n",
      "2  1010894475684728832         -1  \n",
      "3  1010894203856084992         -1  \n",
      "4  1010894130845704192         -1  \n",
      "5  1010893746009829377          1  \n",
      "6  1010893676887732230          1  \n",
      "7  1010893558289608705         -1  \n",
      "8  1010893521253830658          0  \n",
      "9  1010893513129709568          0  \n"
     ]
    }
   ],
   "source": [
    "## Print top 10 tweets and notice Sentiment field added at the end of each record\n",
    "print(data.head(10))"
   ]
  },
  {
   "cell_type": "code",
   "execution_count": 169,
   "metadata": {},
   "outputs": [],
   "source": [
    "## Classifying the tweets\n",
    "\n",
    "positive_tweets = [ tweet for index, tweet in enumerate(data['Tweets']) if data['Sentiment'][index] > 0]\n",
    "neutral_tweets = [ tweet for index, tweet in enumerate(data['Tweets']) if data['Sentiment'][index] == 0]\n",
    "negative_tweets = [ tweet for index, tweet in enumerate(data['Tweets']) if data['Sentiment'][index] < 0]      \n",
    "\n",
    "positive_data = pd.DataFrame (data = [ tweet for index, tweet in enumerate(data['Tweets']) if data['Sentiment'][index] > 0])\n",
    "neutral_data = [ tweet for index, tweet in enumerate(data['Tweets']) if data['Sentiment'][index] == 0]\n",
    "negative_data = [ tweet for index, tweet in enumerate(data['Tweets']) if data['Sentiment'][index] < 0]      "
   ]
  },
  {
   "cell_type": "code",
   "execution_count": 170,
   "metadata": {},
   "outputs": [
    {
     "data": {
      "text/html": [
       "<div>\n",
       "<style>\n",
       "    .dataframe thead tr:only-child th {\n",
       "        text-align: right;\n",
       "    }\n",
       "\n",
       "    .dataframe thead th {\n",
       "        text-align: left;\n",
       "    }\n",
       "\n",
       "    .dataframe tbody tr th {\n",
       "        vertical-align: top;\n",
       "    }\n",
       "</style>\n",
       "<table border=\"1\" class=\"dataframe\">\n",
       "  <thead>\n",
       "    <tr style=\"text-align: right;\">\n",
       "      <th></th>\n",
       "      <th>0</th>\n",
       "    </tr>\n",
       "  </thead>\n",
       "  <tbody>\n",
       "    <tr>\n",
       "      <th>0</th>\n",
       "      <td>RT @avinashpandeinc: Probably the reason why D...</td>\n",
       "    </tr>\n",
       "    <tr>\n",
       "      <th>1</th>\n",
       "      <td>RT @Dipankar_cpiml: Is #TreeCutting the latest...</td>\n",
       "    </tr>\n",
       "  </tbody>\n",
       "</table>\n",
       "</div>"
      ],
      "text/plain": [
       "                                                   0\n",
       "0  RT @avinashpandeinc: Probably the reason why D...\n",
       "1  RT @Dipankar_cpiml: Is #TreeCutting the latest..."
      ]
     },
     "execution_count": 170,
     "metadata": {},
     "output_type": "execute_result"
    }
   ],
   "source": [
    "positive_data"
   ]
  },
  {
   "cell_type": "code",
   "execution_count": 171,
   "metadata": {},
   "outputs": [
    {
     "name": "stdout",
     "output_type": "stream",
     "text": [
      "['RT @circuit_hai_kya: \"Demonetization was a real Emergency on account of every poor Indian proclaimed by Chowkidar in which all 125 cr India…', 'RT @circuit_hai_kya: \"Demonetization was a real Emergency on account of every poor Indian proclaimed by Chowkidar in which all 125 cr India…', \"RT @TanvirSalim1: Talking to people at ground zero, I notice people's disappointment with PM Modi. The Mantra of 'achche din' is taking its…\", \"Talking to people at ground zero, I notice people's disappointment with PM Modi. The Mantra of 'achche din' is taki… https://t.co/MPdduZVwAa\", 'RT @circuit_hai_kya: \"Demonetization was a real Emergency on account of every poor Indian proclaimed by Chowkidar in which all 125 cr India…', 'During demonetization there was the chance for the bjp leaders and capitalists to convert their black money to whit… https://t.co/OykTy8cNPi', 'RT @circuit_hai_kya: \"Demonetization was a real Emergency on account of every poor Indian proclaimed by Chowkidar in which all 125 cr India…', 'RT @circuit_hai_kya: \"Demonetization was a real Emergency on account of every poor Indian proclaimed by Chowkidar in which all 125 cr India…', 'RT @circuit_hai_kya: \"Demonetization was a real Emergency on account of every poor Indian proclaimed by Chowkidar in which all 125 cr India…', 'RT @circuit_hai_kya: \"Demonetization was a real Emergency on account of every poor Indian proclaimed by Chowkidar in which all 125 cr India…']\n"
     ]
    }
   ],
   "source": [
    "## Print the negative tweets\n",
    "\n",
    "print(negative_tweets[:10])"
   ]
  },
  {
   "cell_type": "code",
   "execution_count": 172,
   "metadata": {},
   "outputs": [
    {
     "data": {
      "image/png": "[encoded data removed]",
      "text/plain": [
       "<matplotlib.figure.Figure at 0x119b437b8>"
      ]
     },
     "metadata": {},
     "output_type": "display_data"
    }
   ],
   "source": [
    "## Plotting sentiment points \n",
    "\n",
    "data.plot(x='Date',y='Sentiment',style='x')\n",
    "plt.show()\n"
   ]
  },
  {
   "cell_type": "code",
   "execution_count": 173,
   "metadata": {},
   "outputs": [
    {
     "data": {
      "image/png": "[encoded data removed]",
      "text/plain": [
       "<matplotlib.figure.Figure at 0x119b4f780>"
      ]
     },
     "metadata": {},
     "output_type": "display_data"
    }
   ],
   "source": [
    "colors = ['white', 'black', 'grey']\n",
    "sizes = [len(positive_tweets), len(negative_tweets), len(neutral_tweets)]\n",
    "labels = 'Positive', 'Negative', 'Neutral'\n",
    "\n",
    "plt.pie(\n",
    "   x=sizes,\n",
    "   shadow=True,\n",
    "   colors=colors,\n",
    "   labels=labels,\n",
    "   startangle=90\n",
    ")\n",
    "\n",
    "#plt.title(\"Sentiment of {} Tweets about {}\".format(number, query))\n",
    "plt.show()"
   ]
  },
  {
   "cell_type": "markdown",
   "metadata": {},
   "source": [
    "# Twitter data analysis from the week closer to demonetisation in the past.(21st - 23rd Nov 2016"
   ]
  },
  {
   "cell_type": "code",
   "execution_count": 174,
   "metadata": {
    "collapsed": true
   },
   "outputs": [],
   "source": [
    "twitterOlderData=pd.read_csv(\"/Users/swapnilvermani/Downloads/Demonetization_data29th.csv\",encoding = \"ISO-8859-1\")"
   ]
  },
  {
   "cell_type": "code",
   "execution_count": 175,
   "metadata": {},
   "outputs": [
    {
     "name": "stdout",
     "output_type": "stream",
     "text": [
      "   ID                   QUERY      TWEET_ID INSERTED DATE  TRUNCATED LANGUAGE  \\\n",
      "0   1  %2523%23demonetization  8.036840e+17       07:11.2          0       en   \n",
      "1   2  %2523%23demonetization  8.036830e+17       07:11.5          0       en   \n",
      "2   3  %2523%23demonetization  8.036830e+17       07:11.8          0       en   \n",
      "3   4  %2523%23demonetization  8.036830e+17       07:12.5          0       en   \n",
      "4   5  %2523%23demonetization  8.036830e+17       07:12.7          0       en   \n",
      "5   6  %2523%23demonetization  8.036830e+17       07:13.1          0       en   \n",
      "6   7  %2523%23demonetization  8.036830e+17       07:13.4          0       en   \n",
      "7   8  %2523%23demonetization  8.036820e+17       07:13.6          0       en   \n",
      "8   9  %2523%23demonetization  8.036810e+17       07:14.1          0       en   \n",
      "9  10  %2523%23demonetization  8.036810e+17       07:14.4          0       en   \n",
      "\n",
      "   possibly_sensitive coordinates                         retweeted_status  \\\n",
      "0                 NaN         NaN  THIS IS A RETWEET --> DOUBLE-CHECK JSON   \n",
      "1                 NaN         NaN  THIS IS A RETWEET --> DOUBLE-CHECK JSON   \n",
      "2                 NaN         NaN  THIS IS A RETWEET --> DOUBLE-CHECK JSON   \n",
      "3                 0.0         NaN                                      NaN   \n",
      "4                 0.0         NaN                                      NaN   \n",
      "5                 NaN         NaN  THIS IS A RETWEET --> DOUBLE-CHECK JSON   \n",
      "6                 0.0         NaN  THIS IS A RETWEET --> DOUBLE-CHECK JSON   \n",
      "7                 NaN         NaN  THIS IS A RETWEET --> DOUBLE-CHECK JSON   \n",
      "8                 0.0         NaN  THIS IS A RETWEET --> DOUBLE-CHECK JSON   \n",
      "9                 0.0         NaN                                      NaN   \n",
      "\n",
      "                  created_at_text   ...    \\\n",
      "0  Tue Nov 29 19:36:24 +0000 2016   ...     \n",
      "1  Tue Nov 29 19:33:34 +0000 2016   ...     \n",
      "2  Tue Nov 29 19:33:15 +0000 2016   ...     \n",
      "3  Tue Nov 29 19:32:33 +0000 2016   ...     \n",
      "4  Tue Nov 29 19:32:23 +0000 2016   ...     \n",
      "5  Tue Nov 29 19:31:24 +0000 2016   ...     \n",
      "6  Tue Nov 29 19:30:29 +0000 2016   ...     \n",
      "7  Tue Nov 29 19:28:53 +0000 2016   ...     \n",
      "8  Tue Nov 29 19:23:49 +0000 2016   ...     \n",
      "9  Tue Nov 29 19:23:29 +0000 2016   ...     \n",
      "\n",
      "                                              source  \\\n",
      "0  <a href=\"http://twitter.com/download/android\" ...   \n",
      "1  <a href=\"http://twitter.com/download/iphone\" r...   \n",
      "2  <a href=\"http://twitter.com/download/android\" ...   \n",
      "3  <a href=\"http://paper.li\" rel=\"nofollow\">Paper...   \n",
      "4  <a href=\"http://paper.li\" rel=\"nofollow\">Paper...   \n",
      "5  <a href=\"http://twitter.com/download/iphone\" r...   \n",
      "6  <a href=\"http://twitter.com\" rel=\"nofollow\">Tw...   \n",
      "7  <a href=\"http://twitter.com/download/android\" ...   \n",
      "8  <a href=\"http://twitter.com/download/android\" ...   \n",
      "9  <a href=\"http://paper.li\" rel=\"nofollow\">Paper...   \n",
      "\n",
      "                              entities_expanded_urls  \\\n",
      "0                                                NaN   \n",
      "1                                                NaN   \n",
      "2                                                NaN   \n",
      "3  http://paper.li/AwlwoodJoinery/1375702090?edit...   \n",
      "4  http://paper.li/BillRingle/1346437679?edition_...   \n",
      "5                                                NaN   \n",
      "6                                                NaN   \n",
      "7                                                NaN   \n",
      "8                                                NaN   \n",
      "9  http://paper.li/MyForexLounge/1337887161?editi...   \n",
      "\n",
      "                                         json_output  entities_media_count  \\\n",
      "0  {u'contributors': None, u'truncated': False, u...                   NaN   \n",
      "1  {u'contributors': None, u'truncated': False, u...                   NaN   \n",
      "2  {u'contributors': None, u'truncated': False, u...                   NaN   \n",
      "3  {u'contributors': None, u'truncated': False, u...                   NaN   \n",
      "4  {u'contributors': None, u'truncated': False, u...                   NaN   \n",
      "5  {u'contributors': None, u'truncated': False, u...                   NaN   \n",
      "6  {u'contributors': None, u'truncated': False, u...                   NaN   \n",
      "7  {u'contributors': None, u'truncated': False, u...                   NaN   \n",
      "8  {u'contributors': None, u'truncated': False, u...                   1.0   \n",
      "9  {u'contributors': None, u'truncated': False, u...                   NaN   \n",
      "\n",
      "                                  media_expanded_url  \\\n",
      "0                                                NaN   \n",
      "1                                                NaN   \n",
      "2                                                NaN   \n",
      "3                                                NaN   \n",
      "4                                                NaN   \n",
      "5                                                NaN   \n",
      "6                                                NaN   \n",
      "7                                                NaN   \n",
      "8  https://twitter.com/AAPGujarat/status/80348245...   \n",
      "9                                                NaN   \n",
      "\n",
      "                                        media_url  media_type  video_link  \\\n",
      "0                                             NaN         NaN           0   \n",
      "1                                             NaN         NaN           0   \n",
      "2                                             NaN         NaN           0   \n",
      "3                                             NaN         NaN           0   \n",
      "4                                             NaN         NaN           0   \n",
      "5                                             NaN         NaN           0   \n",
      "6                                             NaN         NaN           0   \n",
      "7                                             NaN         NaN           0   \n",
      "8  http://pbs.twimg.com/media/CyaLBV8XAAADjjn.jpg       photo           0   \n",
      "9                                             NaN         NaN           0   \n",
      "\n",
      "  photo_link twitpic  \n",
      "0          0       0  \n",
      "1          0       0  \n",
      "2          0       0  \n",
      "3          0       0  \n",
      "4          0       0  \n",
      "5          0       0  \n",
      "6          0       0  \n",
      "7          0       0  \n",
      "8          0       0  \n",
      "9          0       0  \n",
      "\n",
      "[10 rows x 40 columns]\n"
     ]
    }
   ],
   "source": [
    "print(twitterOlderData.head(10))"
   ]
  },
  {
   "cell_type": "code",
   "execution_count": 176,
   "metadata": {
    "collapsed": true
   },
   "outputs": [],
   "source": [
    "## Clean and Sentiment Analysis the Tweet\n",
    "\n",
    "from textblob import TextBlob                    # library for processing textual data          \n",
    "import re\n",
    "\n",
    "def clean_tweet(tweet):\n",
    "    return ' '.join(re.sub(\"(@[A-Za-z0-9]+)|([^0-9A-Za-z \\t])|(\\w+:\\/\\/\\S+)\", \" \", tweet).split())\n",
    "    #We're returning the tweet which is cleaned(after replacin' the above pattern to null which means deleting)\n",
    "\n",
    "\n",
    "def get_polarity(tweet):                         # here we're getting the polarity of each tweet after analysing it\n",
    "    analysis = TextBlob(clean_tweet(tweet))\n",
    "    if analysis.sentiment.polarity > 0:          #polarity tells whether the tweet is postive or negative or neutral\n",
    "        return 1\n",
    "    elif analysis.sentiment.polarity == 0:\n",
    "        return 0\n",
    "    else:\n",
    "        return -1"
   ]
  },
  {
   "cell_type": "code",
   "execution_count": 177,
   "metadata": {
    "collapsed": true
   },
   "outputs": [],
   "source": [
    "## Adding Sentiment Column\n",
    "\n",
    "twitterOlderData['Sentiment'] = np.array([ get_polarity(tweet) for tweet in twitterOlderData['CONTENT'] ])"
   ]
  },
  {
   "cell_type": "code",
   "execution_count": 178,
   "metadata": {},
   "outputs": [
    {
     "name": "stdout",
     "output_type": "stream",
     "text": [
      "   ID                   QUERY      TWEET_ID INSERTED DATE  TRUNCATED LANGUAGE  \\\n",
      "0   1  %2523%23demonetization  8.036840e+17       07:11.2          0       en   \n",
      "1   2  %2523%23demonetization  8.036830e+17       07:11.5          0       en   \n",
      "2   3  %2523%23demonetization  8.036830e+17       07:11.8          0       en   \n",
      "3   4  %2523%23demonetization  8.036830e+17       07:12.5          0       en   \n",
      "4   5  %2523%23demonetization  8.036830e+17       07:12.7          0       en   \n",
      "\n",
      "   possibly_sensitive coordinates                         retweeted_status  \\\n",
      "0                 NaN         NaN  THIS IS A RETWEET --> DOUBLE-CHECK JSON   \n",
      "1                 NaN         NaN  THIS IS A RETWEET --> DOUBLE-CHECK JSON   \n",
      "2                 NaN         NaN  THIS IS A RETWEET --> DOUBLE-CHECK JSON   \n",
      "3                 0.0         NaN                                      NaN   \n",
      "4                 0.0         NaN                                      NaN   \n",
      "\n",
      "                  created_at_text    ...     \\\n",
      "0  Tue Nov 29 19:36:24 +0000 2016    ...      \n",
      "1  Tue Nov 29 19:33:34 +0000 2016    ...      \n",
      "2  Tue Nov 29 19:33:15 +0000 2016    ...      \n",
      "3  Tue Nov 29 19:32:33 +0000 2016    ...      \n",
      "4  Tue Nov 29 19:32:23 +0000 2016    ...      \n",
      "\n",
      "                              entities_expanded_urls  \\\n",
      "0                                                NaN   \n",
      "1                                                NaN   \n",
      "2                                                NaN   \n",
      "3  http://paper.li/AwlwoodJoinery/1375702090?edit...   \n",
      "4  http://paper.li/BillRingle/1346437679?edition_...   \n",
      "\n",
      "                                         json_output entities_media_count  \\\n",
      "0  {u'contributors': None, u'truncated': False, u...                  NaN   \n",
      "1  {u'contributors': None, u'truncated': False, u...                  NaN   \n",
      "2  {u'contributors': None, u'truncated': False, u...                  NaN   \n",
      "3  {u'contributors': None, u'truncated': False, u...                  NaN   \n",
      "4  {u'contributors': None, u'truncated': False, u...                  NaN   \n",
      "\n",
      "   media_expanded_url  media_url  media_type  video_link  photo_link twitpic  \\\n",
      "0                 NaN        NaN         NaN           0           0       0   \n",
      "1                 NaN        NaN         NaN           0           0       0   \n",
      "2                 NaN        NaN         NaN           0           0       0   \n",
      "3                 NaN        NaN         NaN           0           0       0   \n",
      "4                 NaN        NaN         NaN           0           0       0   \n",
      "\n",
      "  Sentiment  \n",
      "0         1  \n",
      "1         0  \n",
      "2        -1  \n",
      "3         1  \n",
      "4         1  \n",
      "\n",
      "[5 rows x 41 columns]\n"
     ]
    }
   ],
   "source": [
    "print (twitterOlderData.head())"
   ]
  },
  {
   "cell_type": "code",
   "execution_count": 179,
   "metadata": {
    "collapsed": true
   },
   "outputs": [],
   "source": [
    "## Classifying the tweets\n",
    "\n",
    "positive_tweets = [ tweet for index, tweet in enumerate(twitterOlderData['CONTENT']) if twitterOlderData['Sentiment'][index] > 0]\n",
    "neutral_tweets = [ tweet for index, tweet in enumerate(twitterOlderData['CONTENT']) if twitterOlderData['Sentiment'][index] == 0]\n",
    "negative_tweets = [ tweet for index, tweet in enumerate(twitterOlderData['CONTENT']) if twitterOlderData['Sentiment'][index] < 0]      \n",
    "\n",
    "positive_data = pd.DataFrame (data = [ tweet for index, tweet in enumerate(twitterOlderData['CONTENT']) if twitterOlderData['Sentiment'][index] > 0])\n",
    "neutral_data = [ tweet for index, tweet in enumerate(twitterOlderData['CONTENT']) if twitterOlderData['Sentiment'][index] == 0]\n",
    "negative_data = [ tweet for index, tweet in enumerate(twitterOlderData['CONTENT']) if twitterOlderData['Sentiment'][index] < 0]      "
   ]
  },
  {
   "cell_type": "code",
   "execution_count": 180,
   "metadata": {},
   "outputs": [
    {
     "data": {
      "text/html": [
       "<div>\n",
       "<style>\n",
       "    .dataframe thead tr:only-child th {\n",
       "        text-align: right;\n",
       "    }\n",
       "\n",
       "    .dataframe thead th {\n",
       "        text-align: left;\n",
       "    }\n",
       "\n",
       "    .dataframe tbody tr th {\n",
       "        vertical-align: top;\n",
       "    }\n",
       "</style>\n",
       "<table border=\"1\" class=\"dataframe\">\n",
       "  <thead>\n",
       "    <tr style=\"text-align: right;\">\n",
       "      <th></th>\n",
       "      <th>0</th>\n",
       "    </tr>\n",
       "  </thead>\n",
       "  <tbody>\n",
       "    <tr>\n",
       "      <th>0</th>\n",
       "      <td>RT @SirJadeja: Yes, #????_?????_??_???_??. Fir...</td>\n",
       "    </tr>\n",
       "    <tr>\n",
       "      <th>1</th>\n",
       "      <td>The latest Awlwood Joinery Devon Times Daily! ...</td>\n",
       "    </tr>\n",
       "    <tr>\n",
       "      <th>2</th>\n",
       "      <td>The latest Business Breakthroughs Daily! https...</td>\n",
       "    </tr>\n",
       "    <tr>\n",
       "      <th>3</th>\n",
       "      <td>RT @VijaiSardesai: Kudos to the #MargaoMunicip...</td>\n",
       "    </tr>\n",
       "    <tr>\n",
       "      <th>4</th>\n",
       "      <td>RT @dhume: Chhibber: By itself India's #demone...</td>\n",
       "    </tr>\n",
       "    <tr>\n",
       "      <th>5</th>\n",
       "      <td>RT @ajaymaken: #JanAkroshMarch on #Demonetizat...</td>\n",
       "    </tr>\n",
       "    <tr>\n",
       "      <th>6</th>\n",
       "      <td>The latest My Forex Academy! https://t.co/m4OR...</td>\n",
       "    </tr>\n",
       "    <tr>\n",
       "      <th>7</th>\n",
       "      <td>RT @SirJadeja: Yes, #????_?????_??_???_??. Fir...</td>\n",
       "    </tr>\n",
       "    <tr>\n",
       "      <th>8</th>\n",
       "      <td>RT @SirJadeja: Yes, #????_?????_??_???_??. Fir...</td>\n",
       "    </tr>\n",
       "    <tr>\n",
       "      <th>9</th>\n",
       "      <td>RT @Chopsyturvey: Telangana CM K. Chandrasheka...</td>\n",
       "    </tr>\n",
       "    <tr>\n",
       "      <th>10</th>\n",
       "      <td>RT @BSLMF: Catch @MFBALA, CEO Birla Sun Life M...</td>\n",
       "    </tr>\n",
       "    <tr>\n",
       "      <th>11</th>\n",
       "      <td>@PanKumawat it's important to criticize someon...</td>\n",
       "    </tr>\n",
       "    <tr>\n",
       "      <th>12</th>\n",
       "      <td>RT @ajaymaken: #JanAkroshMarch on #Demonetizat...</td>\n",
       "    </tr>\n",
       "    <tr>\n",
       "      <th>13</th>\n",
       "      <td>RT @ByRakeshSimha: Top 10 currencies counterfe...</td>\n",
       "    </tr>\n",
       "    <tr>\n",
       "      <th>14</th>\n",
       "      <td>RT @teenageee: RBI takes surprise action to so...</td>\n",
       "    </tr>\n",
       "    <tr>\n",
       "      <th>15</th>\n",
       "      <td>RT @ajaymaken: #JanAkroshMarch on #Demonetizat...</td>\n",
       "    </tr>\n",
       "    <tr>\n",
       "      <th>16</th>\n",
       "      <td>RT @ShashiTharoor: More disquieting news for t...</td>\n",
       "    </tr>\n",
       "    <tr>\n",
       "      <th>17</th>\n",
       "      <td>The latest Conveyancing CMS News ! https://t.c...</td>\n",
       "    </tr>\n",
       "    <tr>\n",
       "      <th>18</th>\n",
       "      <td>The latest NEXTwebsite! https://t.co/CXQ38EYta...</td>\n",
       "    </tr>\n",
       "    <tr>\n",
       "      <th>19</th>\n",
       "      <td>RT @LillyMaryPinto: Telangana Chief Minister K...</td>\n",
       "    </tr>\n",
       "    <tr>\n",
       "      <th>20</th>\n",
       "      <td>RT @ajaymaken: #JanAkroshMarch on #Demonetizat...</td>\n",
       "    </tr>\n",
       "    <tr>\n",
       "      <th>21</th>\n",
       "      <td>Who are most affected by Government #demonetiz...</td>\n",
       "    </tr>\n",
       "    <tr>\n",
       "      <th>22</th>\n",
       "      <td>RT @ajaymaken: #JanAkroshMarch on #Demonetizat...</td>\n",
       "    </tr>\n",
       "    <tr>\n",
       "      <th>23</th>\n",
       "      <td>In first polls announced after #Demonetization...</td>\n",
       "    </tr>\n",
       "    <tr>\n",
       "      <th>24</th>\n",
       "      <td>RT @ajaymaken: #JanAkroshMarch on #Demonetizat...</td>\n",
       "    </tr>\n",
       "    <tr>\n",
       "      <th>25</th>\n",
       "      <td>Our basic concept of Jurisprudence that the 10...</td>\n",
       "    </tr>\n",
       "    <tr>\n",
       "      <th>26</th>\n",
       "      <td>RT @ajaymaken: #JanAkroshMarch on #Demonetizat...</td>\n",
       "    </tr>\n",
       "    <tr>\n",
       "      <th>27</th>\n",
       "      <td>RT @ajaymaken: #JanAkroshMarch on #Demonetizat...</td>\n",
       "    </tr>\n",
       "    <tr>\n",
       "      <th>28</th>\n",
       "      <td>Top 10 currencies counterfeited. Indian #Rupee...</td>\n",
       "    </tr>\n",
       "    <tr>\n",
       "      <th>29</th>\n",
       "      <td>RT @Chopsyturvey: Mamata Kejriwal were origina...</td>\n",
       "    </tr>\n",
       "    <tr>\n",
       "      <th>...</th>\n",
       "      <td>...</td>\n",
       "    </tr>\n",
       "    <tr>\n",
       "      <th>2433</th>\n",
       "      <td>RT @ndtv: More than Rs. 5 lakh crore has been ...</td>\n",
       "    </tr>\n",
       "    <tr>\n",
       "      <th>2434</th>\n",
       "      <td>RT @ndtv: More than Rs. 5 lakh crore has been ...</td>\n",
       "    </tr>\n",
       "    <tr>\n",
       "      <th>2435</th>\n",
       "      <td>RT @ndtv: More than Rs. 5 lakh crore has been ...</td>\n",
       "    </tr>\n",
       "    <tr>\n",
       "      <th>2436</th>\n",
       "      <td>RT @ndtv: More than Rs. 5 lakh crore has been ...</td>\n",
       "    </tr>\n",
       "    <tr>\n",
       "      <th>2437</th>\n",
       "      <td>RT @ndtv: More than Rs. 5 lakh crore has been ...</td>\n",
       "    </tr>\n",
       "    <tr>\n",
       "      <th>2438</th>\n",
       "      <td>RT @ndtv: More than Rs. 5 lakh crore has been ...</td>\n",
       "    </tr>\n",
       "    <tr>\n",
       "      <th>2439</th>\n",
       "      <td>RT @ndtv: More than Rs. 5 lakh crore has been ...</td>\n",
       "    </tr>\n",
       "    <tr>\n",
       "      <th>2440</th>\n",
       "      <td>RT @ndtv: More than Rs. 5 lakh crore has been ...</td>\n",
       "    </tr>\n",
       "    <tr>\n",
       "      <th>2441</th>\n",
       "      <td>RT @ndtv: More than Rs. 5 lakh crore has been ...</td>\n",
       "    </tr>\n",
       "    <tr>\n",
       "      <th>2442</th>\n",
       "      <td>RT @ndtv: More than Rs. 5 lakh crore has been ...</td>\n",
       "    </tr>\n",
       "    <tr>\n",
       "      <th>2443</th>\n",
       "      <td>RT @ndtv: More than Rs. 5 lakh crore has been ...</td>\n",
       "    </tr>\n",
       "    <tr>\n",
       "      <th>2444</th>\n",
       "      <td>RT @ndtv: More than Rs. 5 lakh crore has been ...</td>\n",
       "    </tr>\n",
       "    <tr>\n",
       "      <th>2445</th>\n",
       "      <td>ndtv: More than Rs. 5 lakh crore has been depo...</td>\n",
       "    </tr>\n",
       "    <tr>\n",
       "      <th>2446</th>\n",
       "      <td>RT @ndtv: More than Rs. 5 lakh crore has been ...</td>\n",
       "    </tr>\n",
       "    <tr>\n",
       "      <th>2447</th>\n",
       "      <td>RT @ndtv: More than Rs. 5 lakh crore has been ...</td>\n",
       "    </tr>\n",
       "    <tr>\n",
       "      <th>2448</th>\n",
       "      <td>RT @ndtv: More than Rs. 5 lakh crore has been ...</td>\n",
       "    </tr>\n",
       "    <tr>\n",
       "      <th>2449</th>\n",
       "      <td>ndtv: More than Rs. 5 lakh crore has been depo...</td>\n",
       "    </tr>\n",
       "    <tr>\n",
       "      <th>2450</th>\n",
       "      <td>RT @ndtv: More than Rs. 5 lakh crore has been ...</td>\n",
       "    </tr>\n",
       "    <tr>\n",
       "      <th>2451</th>\n",
       "      <td>RT @ndtv: More than Rs. 5 lakh crore has been ...</td>\n",
       "    </tr>\n",
       "    <tr>\n",
       "      <th>2452</th>\n",
       "      <td>RT @ndtv: More than Rs. 5 lakh crore has been ...</td>\n",
       "    </tr>\n",
       "    <tr>\n",
       "      <th>2453</th>\n",
       "      <td>More than Rs. 5 lakh crore has been deposited ...</td>\n",
       "    </tr>\n",
       "    <tr>\n",
       "      <th>2454</th>\n",
       "      <td>RT @ndtv: CPI leader moves top court challengi...</td>\n",
       "    </tr>\n",
       "    <tr>\n",
       "      <th>2455</th>\n",
       "      <td>RT @ndtv: CPI leader moves top court challengi...</td>\n",
       "    </tr>\n",
       "    <tr>\n",
       "      <th>2456</th>\n",
       "      <td>Cook and Hameed would have loved exchanging no...</td>\n",
       "    </tr>\n",
       "    <tr>\n",
       "      <th>2457</th>\n",
       "      <td>RT @jarariya91: #ConfusedModiSarkarU call #Cur...</td>\n",
       "    </tr>\n",
       "    <tr>\n",
       "      <th>2458</th>\n",
       "      <td>Meanwhile, a currency press wants fresh supply...</td>\n",
       "    </tr>\n",
       "    <tr>\n",
       "      <th>2459</th>\n",
       "      <td>@RanaAyyub Please do something to link it with...</td>\n",
       "    </tr>\n",
       "    <tr>\n",
       "      <th>2460</th>\n",
       "      <td>Who says we don't have money or effected but s...</td>\n",
       "    </tr>\n",
       "    <tr>\n",
       "      <th>2461</th>\n",
       "      <td>#currencyban Don't cry because it's over, Smil...</td>\n",
       "    </tr>\n",
       "    <tr>\n",
       "      <th>2462</th>\n",
       "      <td>RT @TweetNitinS: Delhi CM @ArvindKejriwal lose...</td>\n",
       "    </tr>\n",
       "  </tbody>\n",
       "</table>\n",
       "<p>2463 rows × 1 columns</p>\n",
       "</div>"
      ],
      "text/plain": [
       "                                                      0\n",
       "0     RT @SirJadeja: Yes, #????_?????_??_???_??. Fir...\n",
       "1     The latest Awlwood Joinery Devon Times Daily! ...\n",
       "2     The latest Business Breakthroughs Daily! https...\n",
       "3     RT @VijaiSardesai: Kudos to the #MargaoMunicip...\n",
       "4     RT @dhume: Chhibber: By itself India's #demone...\n",
       "5     RT @ajaymaken: #JanAkroshMarch on #Demonetizat...\n",
       "6     The latest My Forex Academy! https://t.co/m4OR...\n",
       "7     RT @SirJadeja: Yes, #????_?????_??_???_??. Fir...\n",
       "8     RT @SirJadeja: Yes, #????_?????_??_???_??. Fir...\n",
       "9     RT @Chopsyturvey: Telangana CM K. Chandrasheka...\n",
       "10    RT @BSLMF: Catch @MFBALA, CEO Birla Sun Life M...\n",
       "11    @PanKumawat it's important to criticize someon...\n",
       "12    RT @ajaymaken: #JanAkroshMarch on #Demonetizat...\n",
       "13    RT @ByRakeshSimha: Top 10 currencies counterfe...\n",
       "14    RT @teenageee: RBI takes surprise action to so...\n",
       "15    RT @ajaymaken: #JanAkroshMarch on #Demonetizat...\n",
       "16    RT @ShashiTharoor: More disquieting news for t...\n",
       "17    The latest Conveyancing CMS News ! https://t.c...\n",
       "18    The latest NEXTwebsite! https://t.co/CXQ38EYta...\n",
       "19    RT @LillyMaryPinto: Telangana Chief Minister K...\n",
       "20    RT @ajaymaken: #JanAkroshMarch on #Demonetizat...\n",
       "21    Who are most affected by Government #demonetiz...\n",
       "22    RT @ajaymaken: #JanAkroshMarch on #Demonetizat...\n",
       "23    In first polls announced after #Demonetization...\n",
       "24    RT @ajaymaken: #JanAkroshMarch on #Demonetizat...\n",
       "25    Our basic concept of Jurisprudence that the 10...\n",
       "26    RT @ajaymaken: #JanAkroshMarch on #Demonetizat...\n",
       "27    RT @ajaymaken: #JanAkroshMarch on #Demonetizat...\n",
       "28    Top 10 currencies counterfeited. Indian #Rupee...\n",
       "29    RT @Chopsyturvey: Mamata Kejriwal were origina...\n",
       "...                                                 ...\n",
       "2433  RT @ndtv: More than Rs. 5 lakh crore has been ...\n",
       "2434  RT @ndtv: More than Rs. 5 lakh crore has been ...\n",
       "2435  RT @ndtv: More than Rs. 5 lakh crore has been ...\n",
       "2436  RT @ndtv: More than Rs. 5 lakh crore has been ...\n",
       "2437  RT @ndtv: More than Rs. 5 lakh crore has been ...\n",
       "2438  RT @ndtv: More than Rs. 5 lakh crore has been ...\n",
       "2439  RT @ndtv: More than Rs. 5 lakh crore has been ...\n",
       "2440  RT @ndtv: More than Rs. 5 lakh crore has been ...\n",
       "2441  RT @ndtv: More than Rs. 5 lakh crore has been ...\n",
       "2442  RT @ndtv: More than Rs. 5 lakh crore has been ...\n",
       "2443  RT @ndtv: More than Rs. 5 lakh crore has been ...\n",
       "2444  RT @ndtv: More than Rs. 5 lakh crore has been ...\n",
       "2445  ndtv: More than Rs. 5 lakh crore has been depo...\n",
       "2446  RT @ndtv: More than Rs. 5 lakh crore has been ...\n",
       "2447  RT @ndtv: More than Rs. 5 lakh crore has been ...\n",
       "2448  RT @ndtv: More than Rs. 5 lakh crore has been ...\n",
       "2449  ndtv: More than Rs. 5 lakh crore has been depo...\n",
       "2450  RT @ndtv: More than Rs. 5 lakh crore has been ...\n",
       "2451  RT @ndtv: More than Rs. 5 lakh crore has been ...\n",
       "2452  RT @ndtv: More than Rs. 5 lakh crore has been ...\n",
       "2453  More than Rs. 5 lakh crore has been deposited ...\n",
       "2454  RT @ndtv: CPI leader moves top court challengi...\n",
       "2455  RT @ndtv: CPI leader moves top court challengi...\n",
       "2456  Cook and Hameed would have loved exchanging no...\n",
       "2457  RT @jarariya91: #ConfusedModiSarkarU call #Cur...\n",
       "2458  Meanwhile, a currency press wants fresh supply...\n",
       "2459  @RanaAyyub Please do something to link it with...\n",
       "2460  Who says we don't have money or effected but s...\n",
       "2461  #currencyban Don't cry because it's over, Smil...\n",
       "2462  RT @TweetNitinS: Delhi CM @ArvindKejriwal lose...\n",
       "\n",
       "[2463 rows x 1 columns]"
      ]
     },
     "execution_count": 180,
     "metadata": {},
     "output_type": "execute_result"
    }
   ],
   "source": [
    "positive_data"
   ]
  },
  {
   "cell_type": "code",
   "execution_count": 181,
   "metadata": {},
   "outputs": [
    {
     "name": "stdout",
     "output_type": "stream",
     "text": [
      "['RT @mdbaid: Incompetence of modi is d reason for national loss, occurred due to ill prepared #demonetization#???_???_??_????? https://t.co\\x85', 'RT @NilimDutta: Swachh Bharat Abhiyan? #EpicFailMake in India? Epic FailSurgical Strike? Epic Fail#DeMonetization? Epic Fail', 'Bhakts routine*Wakeup: Eat*Term 10 Common man questioning #demonetization as Terrorist *Never answer,Talk &amp; tweet like crap*Sleep', 'RT @BSLMF: Don\\x92t let that increased balance due to #demonetization sit idle. 6 month plans for short term goals.https://t.co/ot0RZunT7R(1\\x85', 'RT @BSLMF: Increased account balance due to #demonetization? 18 month to 3 yrs plans to help accomplish your goals. https://t.co/wqJIkUkiH\\x85', 'RT @BSLMF: Don\\x92t let that increased balance due to #demonetization sit idle. 6 month plans for short term goals.https://t.co/ot0RZunT7R(1\\x85', 'RT @BSLMF: Make that increased account balance due to #demonetization work. Upto 18 month plans for your goals. https://t.co/EVNcsJXXGb(1\\x85', 'RT @BSLMF: Increased account balance due to #demonetization? 18 month to 3 yrs plans to help accomplish your goals. https://t.co/wqJIkUkiH\\x85', 'Promote your business and no need to worry about losing business due to #DeMonetization . Join today Help grow your business#B2B #Directory', 'RT @PseudoLifee: Hyderabad 6arrested printing fake currency newly introduced Rs 2,000 notes https://t.co/m3LpdYsWbV ?? #Demonetization #???\\x85']\n"
     ]
    }
   ],
   "source": [
    "## Print the negative tweets\n",
    "\n",
    "print(negative_tweets[:10])"
   ]
  },
  {
   "cell_type": "code",
   "execution_count": 182,
   "metadata": {},
   "outputs": [
    {
     "data": {
      "image/png": "[encoded data removed]",
      "text/plain": [
       "<matplotlib.figure.Figure at 0x1a23d8b128>"
      ]
     },
     "metadata": {},
     "output_type": "display_data"
    }
   ],
   "source": [
    "colors = ['white', 'black', 'grey']\n",
    "sizes = [len(positive_tweets), len(negative_tweets), len(neutral_tweets)]\n",
    "labels = 'Positive', 'Negative', 'Neutral'\n",
    "\n",
    "plt.pie(\n",
    "   x=sizes,\n",
    "   shadow=True,\n",
    "   colors=colors,\n",
    "   labels=labels,\n",
    "   startangle=90\n",
    ")\n",
    "\n",
    "#plt.title(\"Sentiment of {} Tweets about {}\".format(number, query))\n",
    "plt.show()"
   ]
  },
  {
   "cell_type": "markdown",
   "metadata": {},
   "source": [
    "# Sentimental transaction on Digital transactions in the past week"
   ]
  },
  {
   "cell_type": "code",
   "execution_count": 183,
   "metadata": {},
   "outputs": [
    {
     "name": "stdout",
     "output_type": "stream",
     "text": [
      "Number of tweets that are extracted: 15\n",
      "\n",
      "10 recent tweets:\n",
      "\n",
      "RT @records_keeper: https://t.co/ZstilPky7X List of #Blockchain Explorers - #Blockchain_Council #Blockchain_Technology #Blockchain_Use_Case…\n",
      "RT @wef: Protecting digital transactions and preventing fraud. Learn more: https://t.co/PyzsYSsFW0 https://t.co/3g4T7C4jxW\n",
      "RT @THE4THPILLARLTD: The 4th Pillar will strongly reduce the use of paper as it is based on blockchain transactions and digital communicati…\n",
      "Trust in Banks Highest Since 2012, but Declining Branch Visits and Increased Digital Transactions Risk Eroding Cust… https://t.co/AaTMZ6EDli\n",
      "RT @sgame_official: Tokenomics: economical and financial models that use distributed finance and tokenization as the basis of the economy.…\n",
      "RT @gamestatix: Blockchain technologies are the future of secure and stable digital transactions. And the market for blockchain technologie…\n",
      "RT @riazAkhan: The digital deed: what will the #digitalmortgage mean for property transactions? #digitatransformation\n",
      "https://t.co/Td4iwEWq…\n",
      "Accumulate cash on ShopBack\n",
      "\n",
      "POPULAR “online cashback platform”, ShopBack, recently shared interesting and valuable… https://t.co/s24YEFBYuF\n",
      "RT @Bitbosecoin: @Bitbosecoin 's features are manifold. It's THE digital currency for current and future transactions . Invest today \n",
      "https…\n",
      "RT @sgame_official: Tokenomics: economical and financial models that use distributed finance and tokenization as the basis of the economy.…\n"
     ]
    }
   ],
   "source": [
    "## Retrieving Tweets\n",
    "\n",
    "# Tweets can be retrieved by passing required parameters\n",
    "#screen_name=The name of the user for whom to return results.\n",
    "#count=specifies the number of tweets that we require.\n",
    "#since_id=returns id greater than from that which we're retrieving tweets from that tweet_id\n",
    "#max_id=returns id less than that or equal to that id\n",
    "\n",
    "connection = info_extraction()                                                 # Calling the funtion from where we have got the connection\n",
    "\n",
    "tweets = connection.search(\"digital transactions\",lang=\"en\")\n",
    " \n",
    "\n",
    "print(\"Number of tweets that are extracted: {}\\n\".format(len(tweets))) \n",
    "print(\"10 recent tweets:\\n\")\n",
    "for x in tweets[:10]:\n",
    "    print(x.text)   "
   ]
  },
  {
   "cell_type": "code",
   "execution_count": 184,
   "metadata": {},
   "outputs": [
    {
     "name": "stdout",
     "output_type": "stream",
     "text": [
      "                                              Tweets\n",
      "0  RT @records_keeper: https://t.co/ZstilPky7X Li...\n",
      "1  RT @wef: Protecting digital transactions and p...\n",
      "2  RT @THE4THPILLARLTD: The 4th Pillar will stron...\n",
      "3  Trust in Banks Highest Since 2012, but Declini...\n",
      "4  RT @sgame_official: Tokenomics: economical and...\n",
      "5  RT @gamestatix: Blockchain technologies are th...\n",
      "6  RT @riazAkhan: The digital deed: what will the...\n",
      "7  Accumulate cash on ShopBack\\n\\nPOPULAR “online...\n",
      "8  RT @Bitbosecoin: @Bitbosecoin 's features are ...\n",
      "9  RT @sgame_official: Tokenomics: economical and...\n"
     ]
    }
   ],
   "source": [
    "\n",
    "data = pd.DataFrame(data=[tweet.text for tweet in tweets], columns=['Tweets']) \n",
    "print(data.head(10))\n"
   ]
  },
  {
   "cell_type": "code",
   "execution_count": 185,
   "metadata": {},
   "outputs": [],
   "source": [
    "## Adding Columns to DataFrame\n",
    "\n",
    "data['len']  = np.array([len(tweet.text) for tweet in tweets])      \n",
    "data['Date'] = np.array([tweet.created_at for tweet in tweets])     \n",
    "data['Likes']= np.array([tweet.favorite_count for tweet in tweets])\n",
    "data['RTs']= np.array([tweet.retweet_count for tweet in tweets])\n",
    "data['User']=np.array([tweet.user for tweet in tweets])\n",
    "data['Id']=np.array([tweet.id for tweet in tweets])"
   ]
  },
  {
   "cell_type": "code",
   "execution_count": 186,
   "metadata": {
    "collapsed": true
   },
   "outputs": [],
   "source": [
    "## Adding Sentiment Column\n",
    "\n",
    "data['Sentiment'] = np.array([ get_polarity(tweet) for tweet in data['Tweets'] ])"
   ]
  },
  {
   "cell_type": "code",
   "execution_count": 187,
   "metadata": {},
   "outputs": [
    {
     "name": "stdout",
     "output_type": "stream",
     "text": [
      "                                              Tweets  len                Date  \\\n",
      "0  RT @records_keeper: https://t.co/ZstilPky7X Li...  140 2018-06-24 14:17:21   \n",
      "1  RT @wef: Protecting digital transactions and p...  122 2018-06-24 14:06:15   \n",
      "2  RT @THE4THPILLARLTD: The 4th Pillar will stron...  140 2018-06-24 14:04:20   \n",
      "3  Trust in Banks Highest Since 2012, but Declini...  140 2018-06-24 14:04:12   \n",
      "4  RT @sgame_official: Tokenomics: economical and...  139 2018-06-24 13:55:38   \n",
      "5  RT @gamestatix: Blockchain technologies are th...  140 2018-06-24 13:43:21   \n",
      "6  RT @riazAkhan: The digital deed: what will the...  140 2018-06-24 13:37:44   \n",
      "7  Accumulate cash on ShopBack\\n\\nPOPULAR “online...  140 2018-06-24 13:25:55   \n",
      "8  RT @Bitbosecoin: @Bitbosecoin 's features are ...  140 2018-06-24 13:22:04   \n",
      "9  RT @sgame_official: Tokenomics: economical and...  139 2018-06-24 13:18:57   \n",
      "\n",
      "   Likes  RTs                                               User  \\\n",
      "0      0    5  User(_api=<tweepy.api.API object at 0x1a23d8b3...   \n",
      "1      0  775  User(_api=<tweepy.api.API object at 0x1a23d8b3...   \n",
      "2      0   96  User(_api=<tweepy.api.API object at 0x1a23d8b3...   \n",
      "3      0    0  User(_api=<tweepy.api.API object at 0x1a23d8b3...   \n",
      "4      0  223  User(_api=<tweepy.api.API object at 0x1a23d8b3...   \n",
      "5      0   55  User(_api=<tweepy.api.API object at 0x1a23d8b3...   \n",
      "6      0    7  User(_api=<tweepy.api.API object at 0x1a23d8b3...   \n",
      "7      0    0  User(_api=<tweepy.api.API object at 0x1a23d8b3...   \n",
      "8      0  298  User(_api=<tweepy.api.API object at 0x1a23d8b3...   \n",
      "9      0  223  User(_api=<tweepy.api.API object at 0x1a23d8b3...   \n",
      "\n",
      "                    Id  Sentiment  \n",
      "0  1010889619645161472          0  \n",
      "1  1010886828151500800          1  \n",
      "2  1010886342300045312          1  \n",
      "3  1010886310817615872          0  \n",
      "4  1010884155175915522          1  \n",
      "5  1010881064728817664          1  \n",
      "6  1010879650283884544         -1  \n",
      "7  1010876675113078785          1  \n",
      "8  1010875708741210112          0  \n",
      "9  1010874923793899526          1  \n"
     ]
    }
   ],
   "source": [
    "## Print top 10 tweets and notice Sentiment field added at the end of each record\n",
    "print(data.head(10))"
   ]
  },
  {
   "cell_type": "code",
   "execution_count": 188,
   "metadata": {
    "collapsed": true
   },
   "outputs": [],
   "source": [
    "## Classifying the tweets\n",
    "\n",
    "positive_tweets = [ tweet for index, tweet in enumerate(data['Tweets']) if data['Sentiment'][index] > 0]\n",
    "neutral_tweets = [ tweet for index, tweet in enumerate(data['Tweets']) if data['Sentiment'][index] == 0]\n",
    "negative_tweets = [ tweet for index, tweet in enumerate(data['Tweets']) if data['Sentiment'][index] < 0]      \n",
    "\n",
    "positive_data = pd.DataFrame (data = [ tweet for index, tweet in enumerate(data['Tweets']) if data['Sentiment'][index] > 0])\n",
    "neutral_data = [ tweet for index, tweet in enumerate(data['Tweets']) if data['Sentiment'][index] == 0]\n",
    "negative_data = [ tweet for index, tweet in enumerate(data['Tweets']) if data['Sentiment'][index] < 0]    "
   ]
  },
  {
   "cell_type": "code",
   "execution_count": 189,
   "metadata": {},
   "outputs": [
    {
     "data": {
      "image/png": "[encoded data removed]",
      "text/plain": [
       "<matplotlib.figure.Figure at 0x119dcd898>"
      ]
     },
     "metadata": {},
     "output_type": "display_data"
    }
   ],
   "source": [
    "colors = ['white', 'black', 'grey']\n",
    "sizes = [len(positive_tweets), len(negative_tweets), len(neutral_tweets)]\n",
    "labels = 'Positive', 'Negative', 'Neutral'\n",
    "\n",
    "plt.pie(\n",
    "   x=sizes,\n",
    "   shadow=True,\n",
    "   colors=colors,\n",
    "   labels=labels,\n",
    "   startangle=90\n",
    ")\n",
    "\n",
    "#plt.title(\"Sentiment of {} Tweets about {}\".format(number, query))\n",
    "plt.show()"
   ]
  },
  {
   "cell_type": "code",
   "execution_count": null,
   "metadata": {
    "collapsed": true
   },
   "outputs": [],
   "source": []
  }
 ],
 "metadata": {
  "kernelspec": {
   "display_name": "Python 3",
   "language": "python",
   "name": "python3"
  },
  "language_info": {
   "codemirror_mode": {
    "name": "ipython",
    "version": 3
   },
   "file_extension": ".py",
   "mimetype": "text/x-python",
   "name": "python",
   "nbconvert_exporter": "python",
   "pygments_lexer": "ipython3",
   "version": "3.6.3"
  }
 },
 "nbformat": 4,
 "nbformat_minor": 2
}
